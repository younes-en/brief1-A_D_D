{
 "cells": [
  {
   "cell_type": "markdown",
   "metadata": {},
   "source": [
    "# 1 - Déploiement de l’environnement"
   ]
  },
  {
   "cell_type": "code",
   "execution_count": 5,
   "metadata": {},
   "outputs": [],
   "source": [
    "# importation des bibliothèques\n",
    "\n",
    "import pandas as pd\n",
    "import numpy as np\n",
    "import scipy as sc \n",
    "import matplotlib as mpl\n",
    "from random import randint"
   ]
  },
  {
   "cell_type": "markdown",
   "metadata": {},
   "source": [
    "# 2 - Sources de données : Manipulation"
   ]
  },
  {
   "cell_type": "code",
   "execution_count": 6,
   "metadata": {},
   "outputs": [
    {
     "name": "stdout",
     "output_type": "stream",
     "text": [
      "     ID_NOM  Niv_Etude_Bac  age contrat_de_travail  Salaire  dette_anterieure  \\\n",
      "0      jean            3.0   45                CDI    40000              4000   \n",
      "1   VANESSA            5.0   28                CDI    30500              1320   \n",
      "2  TARCISSE            0.0   55                CDI    28000             40000   \n",
      "3   TIBAULT            4.0   23                CDD    15000                 0   \n",
      "4     GILES            0.0   33                CDD    27000              3000   \n",
      "\n",
      "  etat_civile  apport  enfant_a_Charge Solvable  \n",
      "0           M     0.3              3.0      OUI  \n",
      "1           M     0.1              0.0      OUI  \n",
      "2           C     0.0              0.0      NON  \n",
      "3           M     0.1              NaN      OUI  \n",
      "4           C     0.1              2.0      NON  \n",
      "----------------------------------\n",
      "   Salaire    ID_NOM  dette_anterieure  apport contrat_de_travail  \\\n",
      "0    40000      jean              4000     0.3                CDI   \n",
      "1    30500   VANESSA              1320     0.1                CDI   \n",
      "2    28000  TARCISSE             40000     0.0                CDI   \n",
      "3    15000   TIBAULT                 0     0.1                CDD   \n",
      "4    27000     GILES              3000     0.1                CDD   \n",
      "\n",
      "  enfant_a_Charge etat_civile Solvable  age Niv_Etude_Bac  \n",
      "0               3           M      OUI   45             3  \n",
      "1               0           M      OUI   28             5  \n",
      "2               0           C      NON   55             0  \n",
      "3                           M      OUI   23             4  \n",
      "4               2           C      NON   33             0  \n",
      "----------------------------------\n",
      "     ID_NOM  Niv_Etude_Bac  age contrat_de_travail  Salaire  dette_anterieure  \\\n",
      "0      jean            3.0   45                CDI    40000              4000   \n",
      "1   VANESSA            5.0   28                CDI    30500              1320   \n",
      "2  TARCISSE            0.0   55                CDI    28000             40000   \n",
      "3   TIBAULT            4.0   23                CDD    15000                 0   \n",
      "4     GILES            0.0   33                CDD    27000              3000   \n",
      "\n",
      "  etat_civile  apport  enfant_a_Charge Solvable  \n",
      "0           M     0.3              3.0      OUI  \n",
      "1           M     0.1              0.0      OUI  \n",
      "2           C     0.0              0.0      NON  \n",
      "3           M     0.1              NaN      OUI  \n",
      "4           C     0.1              2.0      NON  \n"
     ]
    }
   ],
   "source": [
    "# importation du fichier\n",
    "\n",
    "credit_immo_csv = pd.read_csv(\"Base de données/credit_immo/credit_immo.csv\")\n",
    "print(credit_immo_csv.head())\n",
    "\n",
    "print(\"----------------------------------\")\n",
    "\n",
    "credit_immo_json = pd.read_json(\"Base de données/credit_immo/credit_immo.json\")\n",
    "print(credit_immo_json.head())\n",
    "\n",
    "print(\"----------------------------------\")\n",
    "\n",
    "credit_immo_xls = pd.read_excel(\"Base de données/credit_immo/credit_immo.xls\")\n",
    "print(credit_immo_xls.head())"
   ]
  },
  {
   "cell_type": "code",
   "execution_count": 7,
   "metadata": {},
   "outputs": [
    {
     "name": "stdout",
     "output_type": "stream",
     "text": [
      "   taux_de_ventes  croissance_vente  ratio_benefice  ratio_perte\n",
      "1              30                66              33           40\n",
      "2              48                 0              75           47\n",
      "3              10                62              36           52\n",
      "4              87                27              83            2\n",
      "5              21                20              74           29\n",
      "6              63                63              81           55\n"
     ]
    }
   ],
   "source": [
    "# création d'une nouvelle base de données (les valeurs sont aléatoires)\n",
    "\n",
    "nouvelle_bdd = pd.DataFrame(np.random.randint(0,100,size=(6, 4)), columns=[\"taux_de_ventes\", \"croissance_vente\", \"ratio_benefice\", \"ratio_perte\"], index = range(1,7))\n",
    "print(nouvelle_bdd)\n"
   ]
  },
  {
   "cell_type": "code",
   "execution_count": 8,
   "metadata": {},
   "outputs": [],
   "source": [
    "# utiliser la fonction reindex\n",
    "# on introduit des données manquantes\n",
    "\n",
    "nouvelle_bdd = nouvelle_bdd.reindex([1, 2, 3, 4, 5, 6, 7])\n"
   ]
  },
  {
   "cell_type": "code",
   "execution_count": 11,
   "metadata": {},
   "outputs": [
    {
     "name": "stdout",
     "output_type": "stream",
     "text": [
      "   taux_de_ventes  croissance_vente  ratio_benefice  ratio_perte\n",
      "1           False             False           False        False\n",
      "2           False             False           False        False\n",
      "3           False             False           False        False\n",
      "4           False             False           False        False\n",
      "5           False             False           False        False\n",
      "6           False             False           False        False\n",
      "7            True              True            True         True\n",
      "-------------------------\n",
      "   taux_de_ventes  croissance_vente  ratio_benefice  ratio_perte\n",
      "1            30.0              66.0            33.0         40.0\n",
      "2            48.0               0.0            75.0         47.0\n",
      "3            10.0              62.0            36.0         52.0\n",
      "4            87.0              27.0            83.0          2.0\n",
      "5            21.0              20.0            74.0         29.0\n",
      "6            63.0              63.0            81.0         55.0\n",
      "7             0.0               0.0             0.0          0.0\n",
      "-------------------------\n"
     ]
    },
    {
     "data": {
      "text/html": [
       "<div>\n",
       "<style scoped>\n",
       "    .dataframe tbody tr th:only-of-type {\n",
       "        vertical-align: middle;\n",
       "    }\n",
       "\n",
       "    .dataframe tbody tr th {\n",
       "        vertical-align: top;\n",
       "    }\n",
       "\n",
       "    .dataframe thead th {\n",
       "        text-align: right;\n",
       "    }\n",
       "</style>\n",
       "<table border=\"1\" class=\"dataframe\">\n",
       "  <thead>\n",
       "    <tr style=\"text-align: right;\">\n",
       "      <th></th>\n",
       "      <th>taux_de_ventes</th>\n",
       "      <th>croissance_vente</th>\n",
       "      <th>ratio_benefice</th>\n",
       "      <th>ratio_perte</th>\n",
       "    </tr>\n",
       "  </thead>\n",
       "  <tbody>\n",
       "    <tr>\n",
       "      <th>1</th>\n",
       "      <td>30.0</td>\n",
       "      <td>66.0</td>\n",
       "      <td>33.0</td>\n",
       "      <td>40.0</td>\n",
       "    </tr>\n",
       "    <tr>\n",
       "      <th>2</th>\n",
       "      <td>48.0</td>\n",
       "      <td>0.0</td>\n",
       "      <td>75.0</td>\n",
       "      <td>47.0</td>\n",
       "    </tr>\n",
       "    <tr>\n",
       "      <th>3</th>\n",
       "      <td>10.0</td>\n",
       "      <td>62.0</td>\n",
       "      <td>36.0</td>\n",
       "      <td>52.0</td>\n",
       "    </tr>\n",
       "    <tr>\n",
       "      <th>4</th>\n",
       "      <td>87.0</td>\n",
       "      <td>27.0</td>\n",
       "      <td>83.0</td>\n",
       "      <td>2.0</td>\n",
       "    </tr>\n",
       "    <tr>\n",
       "      <th>5</th>\n",
       "      <td>21.0</td>\n",
       "      <td>20.0</td>\n",
       "      <td>74.0</td>\n",
       "      <td>29.0</td>\n",
       "    </tr>\n",
       "    <tr>\n",
       "      <th>6</th>\n",
       "      <td>63.0</td>\n",
       "      <td>63.0</td>\n",
       "      <td>81.0</td>\n",
       "      <td>55.0</td>\n",
       "    </tr>\n",
       "  </tbody>\n",
       "</table>\n",
       "</div>"
      ],
      "text/plain": [
       "   taux_de_ventes  croissance_vente  ratio_benefice  ratio_perte\n",
       "1            30.0              66.0            33.0         40.0\n",
       "2            48.0               0.0            75.0         47.0\n",
       "3            10.0              62.0            36.0         52.0\n",
       "4            87.0              27.0            83.0          2.0\n",
       "5            21.0              20.0            74.0         29.0\n",
       "6            63.0              63.0            81.0         55.0"
      ]
     },
     "execution_count": 11,
     "metadata": {},
     "output_type": "execute_result"
    }
   ],
   "source": [
    "# on récupère les indices des valeurs manquantes\n",
    "print(nouvelle_bdd.isnull())\n",
    "\n",
    "print(\"-------------------------\")\n",
    "\n",
    "# on remplace les valeurs manquantes par 0.\n",
    "print(nouvelle_bdd.fillna(0))\n",
    "\n",
    "print(\"-------------------------\")\n",
    "\n",
    "# puis on supprime ces valeurs\n",
    "nouvelle_bdd.dropna()"
   ]
  },
  {
   "cell_type": "code",
   "execution_count": null,
   "metadata": {
    "scrolled": true
   },
   "outputs": [],
   "source": []
  },
  {
   "cell_type": "markdown",
   "metadata": {},
   "source": [
    "# 3 - Traitement des données"
   ]
  },
  {
   "cell_type": "markdown",
   "metadata": {},
   "source": [
    "##  a) Importer les bibliothèques adéquates."
   ]
  },
  {
   "cell_type": "code",
   "execution_count": 6,
   "metadata": {},
   "outputs": [],
   "source": [
    "from sklearn.impute import SimpleImputer \n",
    "from sklearn.preprocessing import LabelEncoder\n",
    "from sklearn.model_selection import train_test_split"
   ]
  },
  {
   "cell_type": "markdown",
   "metadata": {},
   "source": [
    "## b) Importer le jeu de données (credit_immo.csv)."
   ]
  },
  {
   "cell_type": "code",
   "execution_count": 7,
   "metadata": {},
   "outputs": [],
   "source": [
    "credit_immo_csv = pd.read_csv(\"Base de données/credit_immo/credit_immo.csv\")"
   ]
  },
  {
   "cell_type": "markdown",
   "metadata": {},
   "source": [
    "## c) Transformer les valeurs manquantes en moyenne (SimpleImputer)"
   ]
  },
  {
   "cell_type": "code",
   "execution_count": 8,
   "metadata": {},
   "outputs": [
    {
     "name": "stdout",
     "output_type": "stream",
     "text": [
      "ID_NOM                 object\n",
      "Niv_Etude_Bac         float64\n",
      "age                     int64\n",
      "contrat_de_travail     object\n",
      "Salaire                 int64\n",
      "dette_anterieure        int64\n",
      "etat_civile            object\n",
      "apport                float64\n",
      "enfant_a_Charge       float64\n",
      "Solvable               object\n",
      "dtype: object\n"
     ]
    }
   ],
   "source": [
    "# Types des données\n",
    "\n",
    "type_credit = credit_immo_csv.dtypes\n",
    "print(type_credit)\n"
   ]
  },
  {
   "cell_type": "code",
   "execution_count": 9,
   "metadata": {},
   "outputs": [
    {
     "data": {
      "text/plain": [
       "Index(['Niv_Etude_Bac', 'age', 'Salaire', 'dette_anterieure', 'apport',\n",
       "       'enfant_a_Charge'],\n",
       "      dtype='object')"
      ]
     },
     "execution_count": 9,
     "metadata": {},
     "output_type": "execute_result"
    }
   ],
   "source": [
    "bdd_moyennes=credit_immo_csv.select_dtypes(exclude=['object']).columns\n",
    "bdd_moyennes\n",
    "\n",
    "\n",
    "# df36=df3.select_dtypes(exclude=['object']).columns\n",
    "# df36"
   ]
  },
  {
   "cell_type": "code",
   "execution_count": 10,
   "metadata": {},
   "outputs": [
    {
     "data": {
      "text/html": [
       "<div>\n",
       "<style scoped>\n",
       "    .dataframe tbody tr th:only-of-type {\n",
       "        vertical-align: middle;\n",
       "    }\n",
       "\n",
       "    .dataframe tbody tr th {\n",
       "        vertical-align: top;\n",
       "    }\n",
       "\n",
       "    .dataframe thead th {\n",
       "        text-align: right;\n",
       "    }\n",
       "</style>\n",
       "<table border=\"1\" class=\"dataframe\">\n",
       "  <thead>\n",
       "    <tr style=\"text-align: right;\">\n",
       "      <th></th>\n",
       "      <th>ID_NOM</th>\n",
       "      <th>Niv_Etude_Bac</th>\n",
       "      <th>age</th>\n",
       "      <th>contrat_de_travail</th>\n",
       "      <th>Salaire</th>\n",
       "      <th>dette_anterieure</th>\n",
       "      <th>etat_civile</th>\n",
       "      <th>apport</th>\n",
       "      <th>enfant_a_Charge</th>\n",
       "      <th>Solvable</th>\n",
       "    </tr>\n",
       "  </thead>\n",
       "  <tbody>\n",
       "    <tr>\n",
       "      <th>0</th>\n",
       "      <td>jean</td>\n",
       "      <td>3.0</td>\n",
       "      <td>45.0</td>\n",
       "      <td>CDI</td>\n",
       "      <td>40000.0</td>\n",
       "      <td>4000.0</td>\n",
       "      <td>M</td>\n",
       "      <td>0.3</td>\n",
       "      <td>3.0</td>\n",
       "      <td>OUI</td>\n",
       "    </tr>\n",
       "    <tr>\n",
       "      <th>1</th>\n",
       "      <td>VANESSA</td>\n",
       "      <td>5.0</td>\n",
       "      <td>28.0</td>\n",
       "      <td>CDI</td>\n",
       "      <td>30500.0</td>\n",
       "      <td>1320.0</td>\n",
       "      <td>M</td>\n",
       "      <td>0.1</td>\n",
       "      <td>0.0</td>\n",
       "      <td>OUI</td>\n",
       "    </tr>\n",
       "    <tr>\n",
       "      <th>2</th>\n",
       "      <td>TARCISSE</td>\n",
       "      <td>0.0</td>\n",
       "      <td>55.0</td>\n",
       "      <td>CDI</td>\n",
       "      <td>28000.0</td>\n",
       "      <td>40000.0</td>\n",
       "      <td>C</td>\n",
       "      <td>0.0</td>\n",
       "      <td>0.0</td>\n",
       "      <td>NON</td>\n",
       "    </tr>\n",
       "    <tr>\n",
       "      <th>3</th>\n",
       "      <td>TIBAULT</td>\n",
       "      <td>4.0</td>\n",
       "      <td>23.0</td>\n",
       "      <td>CDD</td>\n",
       "      <td>15000.0</td>\n",
       "      <td>0.0</td>\n",
       "      <td>M</td>\n",
       "      <td>0.1</td>\n",
       "      <td>1.3</td>\n",
       "      <td>OUI</td>\n",
       "    </tr>\n",
       "    <tr>\n",
       "      <th>4</th>\n",
       "      <td>GILES</td>\n",
       "      <td>0.0</td>\n",
       "      <td>33.0</td>\n",
       "      <td>CDD</td>\n",
       "      <td>27000.0</td>\n",
       "      <td>3000.0</td>\n",
       "      <td>C</td>\n",
       "      <td>0.1</td>\n",
       "      <td>2.0</td>\n",
       "      <td>NON</td>\n",
       "    </tr>\n",
       "    <tr>\n",
       "      <th>5</th>\n",
       "      <td>ETHAN</td>\n",
       "      <td>0.0</td>\n",
       "      <td>41.0</td>\n",
       "      <td>INTERIM</td>\n",
       "      <td>40000.0</td>\n",
       "      <td>1000.0</td>\n",
       "      <td>M</td>\n",
       "      <td>0.0</td>\n",
       "      <td>4.0</td>\n",
       "      <td>NON</td>\n",
       "    </tr>\n",
       "    <tr>\n",
       "      <th>6</th>\n",
       "      <td>LILIANE</td>\n",
       "      <td>-1.0</td>\n",
       "      <td>29.0</td>\n",
       "      <td>CDI</td>\n",
       "      <td>50000.0</td>\n",
       "      <td>3000.0</td>\n",
       "      <td>C</td>\n",
       "      <td>0.0</td>\n",
       "      <td>0.0</td>\n",
       "      <td>NON</td>\n",
       "    </tr>\n",
       "    <tr>\n",
       "      <th>7</th>\n",
       "      <td>GLODI</td>\n",
       "      <td>-3.0</td>\n",
       "      <td>24.0</td>\n",
       "      <td>INTERIM</td>\n",
       "      <td>29000.0</td>\n",
       "      <td>5000.0</td>\n",
       "      <td>C</td>\n",
       "      <td>0.0</td>\n",
       "      <td>0.0</td>\n",
       "      <td>NON</td>\n",
       "    </tr>\n",
       "    <tr>\n",
       "      <th>8</th>\n",
       "      <td>FLORIANE</td>\n",
       "      <td>1.4</td>\n",
       "      <td>26.0</td>\n",
       "      <td>CDI</td>\n",
       "      <td>44000.0</td>\n",
       "      <td>0.0</td>\n",
       "      <td>M</td>\n",
       "      <td>0.1</td>\n",
       "      <td>1.0</td>\n",
       "      <td>OUI</td>\n",
       "    </tr>\n",
       "  </tbody>\n",
       "</table>\n",
       "</div>"
      ],
      "text/plain": [
       "     ID_NOM  Niv_Etude_Bac   age contrat_de_travail  Salaire  \\\n",
       "0      jean            3.0  45.0                CDI  40000.0   \n",
       "1   VANESSA            5.0  28.0                CDI  30500.0   \n",
       "2  TARCISSE            0.0  55.0                CDI  28000.0   \n",
       "3   TIBAULT            4.0  23.0                CDD  15000.0   \n",
       "4     GILES            0.0  33.0                CDD  27000.0   \n",
       "5     ETHAN            0.0  41.0            INTERIM  40000.0   \n",
       "6   LILIANE           -1.0  29.0                CDI  50000.0   \n",
       "7     GLODI           -3.0  24.0            INTERIM  29000.0   \n",
       "8  FLORIANE            1.4  26.0                CDI  44000.0   \n",
       "\n",
       "   dette_anterieure etat_civile  apport  enfant_a_Charge Solvable  \n",
       "0            4000.0           M     0.3              3.0      OUI  \n",
       "1            1320.0           M     0.1              0.0      OUI  \n",
       "2           40000.0           C     0.0              0.0      NON  \n",
       "3               0.0           M     0.1              1.3      OUI  \n",
       "4            3000.0           C     0.1              2.0      NON  \n",
       "5            1000.0           M     0.0              4.0      NON  \n",
       "6            3000.0           C     0.0              0.0      NON  \n",
       "7            5000.0           C     0.0              0.0      NON  \n",
       "8               0.0           M     0.1              1.0      OUI  "
      ]
     },
     "execution_count": 10,
     "metadata": {},
     "output_type": "execute_result"
    }
   ],
   "source": [
    "imputer = SimpleImputer(missing_values = np.nan, strategy ='mean')\n",
    "imputer = imputer.fit(credit_immo_csv[bdd_moyennes]) \n",
    "credit_immo_csv[bdd_moyennes] = imputer.transform(credit_immo_csv[bdd_moyennes]).round(1)\n",
    "credit_immo_csv.head(9)\n",
    "\n"
   ]
  },
  {
   "cell_type": "code",
   "execution_count": 11,
   "metadata": {},
   "outputs": [
    {
     "data": {
      "text/plain": [
       "Index(['ID_NOM', 'contrat_de_travail', 'etat_civile', 'Solvable'], dtype='object')"
      ]
     },
     "execution_count": 11,
     "metadata": {},
     "output_type": "execute_result"
    }
   ],
   "source": [
    "nouvelle_bdd_moyenne=credit_immo_csv.select_dtypes(include=['object']).columns\n",
    "nouvelle_bdd_moyenne"
   ]
  },
  {
   "cell_type": "markdown",
   "metadata": {},
   "source": [
    "## d) Encoder les valeurs catégoriques (LabelEncoder)"
   ]
  },
  {
   "cell_type": "code",
   "execution_count": 12,
   "metadata": {},
   "outputs": [
    {
     "data": {
      "text/html": [
       "<div>\n",
       "<style scoped>\n",
       "    .dataframe tbody tr th:only-of-type {\n",
       "        vertical-align: middle;\n",
       "    }\n",
       "\n",
       "    .dataframe tbody tr th {\n",
       "        vertical-align: top;\n",
       "    }\n",
       "\n",
       "    .dataframe thead th {\n",
       "        text-align: right;\n",
       "    }\n",
       "</style>\n",
       "<table border=\"1\" class=\"dataframe\">\n",
       "  <thead>\n",
       "    <tr style=\"text-align: right;\">\n",
       "      <th></th>\n",
       "      <th>ID_NOM</th>\n",
       "      <th>Niv_Etude_Bac</th>\n",
       "      <th>age</th>\n",
       "      <th>contrat_de_travail</th>\n",
       "      <th>Salaire</th>\n",
       "      <th>dette_anterieure</th>\n",
       "      <th>etat_civile</th>\n",
       "      <th>apport</th>\n",
       "      <th>enfant_a_Charge</th>\n",
       "      <th>Solvable</th>\n",
       "    </tr>\n",
       "  </thead>\n",
       "  <tbody>\n",
       "    <tr>\n",
       "      <th>0</th>\n",
       "      <td>18</td>\n",
       "      <td>3.0</td>\n",
       "      <td>45.0</td>\n",
       "      <td>1</td>\n",
       "      <td>40000.0</td>\n",
       "      <td>4000.0</td>\n",
       "      <td>1</td>\n",
       "      <td>0.3</td>\n",
       "      <td>3.0</td>\n",
       "      <td>1</td>\n",
       "    </tr>\n",
       "    <tr>\n",
       "      <th>1</th>\n",
       "      <td>16</td>\n",
       "      <td>5.0</td>\n",
       "      <td>28.0</td>\n",
       "      <td>1</td>\n",
       "      <td>30500.0</td>\n",
       "      <td>1320.0</td>\n",
       "      <td>1</td>\n",
       "      <td>0.1</td>\n",
       "      <td>0.0</td>\n",
       "      <td>1</td>\n",
       "    </tr>\n",
       "    <tr>\n",
       "      <th>2</th>\n",
       "      <td>14</td>\n",
       "      <td>0.0</td>\n",
       "      <td>55.0</td>\n",
       "      <td>1</td>\n",
       "      <td>28000.0</td>\n",
       "      <td>40000.0</td>\n",
       "      <td>0</td>\n",
       "      <td>0.0</td>\n",
       "      <td>0.0</td>\n",
       "      <td>0</td>\n",
       "    </tr>\n",
       "    <tr>\n",
       "      <th>3</th>\n",
       "      <td>15</td>\n",
       "      <td>4.0</td>\n",
       "      <td>23.0</td>\n",
       "      <td>0</td>\n",
       "      <td>15000.0</td>\n",
       "      <td>0.0</td>\n",
       "      <td>1</td>\n",
       "      <td>0.1</td>\n",
       "      <td>1.3</td>\n",
       "      <td>1</td>\n",
       "    </tr>\n",
       "    <tr>\n",
       "      <th>4</th>\n",
       "      <td>7</td>\n",
       "      <td>0.0</td>\n",
       "      <td>33.0</td>\n",
       "      <td>0</td>\n",
       "      <td>27000.0</td>\n",
       "      <td>3000.0</td>\n",
       "      <td>0</td>\n",
       "      <td>0.1</td>\n",
       "      <td>2.0</td>\n",
       "      <td>0</td>\n",
       "    </tr>\n",
       "    <tr>\n",
       "      <th>5</th>\n",
       "      <td>2</td>\n",
       "      <td>0.0</td>\n",
       "      <td>41.0</td>\n",
       "      <td>3</td>\n",
       "      <td>40000.0</td>\n",
       "      <td>1000.0</td>\n",
       "      <td>1</td>\n",
       "      <td>0.0</td>\n",
       "      <td>4.0</td>\n",
       "      <td>0</td>\n",
       "    </tr>\n",
       "    <tr>\n",
       "      <th>6</th>\n",
       "      <td>12</td>\n",
       "      <td>-1.0</td>\n",
       "      <td>29.0</td>\n",
       "      <td>1</td>\n",
       "      <td>50000.0</td>\n",
       "      <td>3000.0</td>\n",
       "      <td>0</td>\n",
       "      <td>0.0</td>\n",
       "      <td>0.0</td>\n",
       "      <td>0</td>\n",
       "    </tr>\n",
       "    <tr>\n",
       "      <th>7</th>\n",
       "      <td>8</td>\n",
       "      <td>-3.0</td>\n",
       "      <td>24.0</td>\n",
       "      <td>3</td>\n",
       "      <td>29000.0</td>\n",
       "      <td>5000.0</td>\n",
       "      <td>0</td>\n",
       "      <td>0.0</td>\n",
       "      <td>0.0</td>\n",
       "      <td>0</td>\n",
       "    </tr>\n",
       "    <tr>\n",
       "      <th>8</th>\n",
       "      <td>5</td>\n",
       "      <td>1.4</td>\n",
       "      <td>26.0</td>\n",
       "      <td>1</td>\n",
       "      <td>44000.0</td>\n",
       "      <td>0.0</td>\n",
       "      <td>1</td>\n",
       "      <td>0.1</td>\n",
       "      <td>1.0</td>\n",
       "      <td>1</td>\n",
       "    </tr>\n",
       "    <tr>\n",
       "      <th>9</th>\n",
       "      <td>13</td>\n",
       "      <td>3.0</td>\n",
       "      <td>37.0</td>\n",
       "      <td>1</td>\n",
       "      <td>45800.0</td>\n",
       "      <td>2000.0</td>\n",
       "      <td>1</td>\n",
       "      <td>0.2</td>\n",
       "      <td>2.0</td>\n",
       "      <td>1</td>\n",
       "    </tr>\n",
       "    <tr>\n",
       "      <th>10</th>\n",
       "      <td>0</td>\n",
       "      <td>2.0</td>\n",
       "      <td>40.0</td>\n",
       "      <td>1</td>\n",
       "      <td>60000.0</td>\n",
       "      <td>1500.0</td>\n",
       "      <td>1</td>\n",
       "      <td>0.3</td>\n",
       "      <td>3.0</td>\n",
       "      <td>1</td>\n",
       "    </tr>\n",
       "    <tr>\n",
       "      <th>11</th>\n",
       "      <td>3</td>\n",
       "      <td>0.0</td>\n",
       "      <td>38.0</td>\n",
       "      <td>0</td>\n",
       "      <td>26000.0</td>\n",
       "      <td>8000.0</td>\n",
       "      <td>0</td>\n",
       "      <td>0.4</td>\n",
       "      <td>0.0</td>\n",
       "      <td>0</td>\n",
       "    </tr>\n",
       "    <tr>\n",
       "      <th>12</th>\n",
       "      <td>17</td>\n",
       "      <td>-3.0</td>\n",
       "      <td>39.0</td>\n",
       "      <td>3</td>\n",
       "      <td>29000.0</td>\n",
       "      <td>4900.0</td>\n",
       "      <td>1</td>\n",
       "      <td>0.0</td>\n",
       "      <td>1.0</td>\n",
       "      <td>0</td>\n",
       "    </tr>\n",
       "    <tr>\n",
       "      <th>13</th>\n",
       "      <td>10</td>\n",
       "      <td>0.0</td>\n",
       "      <td>31.0</td>\n",
       "      <td>1</td>\n",
       "      <td>43000.0</td>\n",
       "      <td>100000.0</td>\n",
       "      <td>1</td>\n",
       "      <td>0.2</td>\n",
       "      <td>2.0</td>\n",
       "      <td>0</td>\n",
       "    </tr>\n",
       "    <tr>\n",
       "      <th>14</th>\n",
       "      <td>11</td>\n",
       "      <td>1.0</td>\n",
       "      <td>70.0</td>\n",
       "      <td>0</td>\n",
       "      <td>45000.0</td>\n",
       "      <td>17000.0</td>\n",
       "      <td>0</td>\n",
       "      <td>0.3</td>\n",
       "      <td>0.0</td>\n",
       "      <td>0</td>\n",
       "    </tr>\n",
       "    <tr>\n",
       "      <th>15</th>\n",
       "      <td>1</td>\n",
       "      <td>0.0</td>\n",
       "      <td>42.0</td>\n",
       "      <td>2</td>\n",
       "      <td>70000.0</td>\n",
       "      <td>26000.0</td>\n",
       "      <td>1</td>\n",
       "      <td>0.2</td>\n",
       "      <td>0.0</td>\n",
       "      <td>0</td>\n",
       "    </tr>\n",
       "    <tr>\n",
       "      <th>16</th>\n",
       "      <td>4</td>\n",
       "      <td>8.0</td>\n",
       "      <td>46.0</td>\n",
       "      <td>1</td>\n",
       "      <td>80000.0</td>\n",
       "      <td>8000.0</td>\n",
       "      <td>1</td>\n",
       "      <td>0.0</td>\n",
       "      <td>3.0</td>\n",
       "      <td>1</td>\n",
       "    </tr>\n",
       "    <tr>\n",
       "      <th>17</th>\n",
       "      <td>6</td>\n",
       "      <td>3.0</td>\n",
       "      <td>23.0</td>\n",
       "      <td>1</td>\n",
       "      <td>100000.0</td>\n",
       "      <td>0.0</td>\n",
       "      <td>1</td>\n",
       "      <td>0.3</td>\n",
       "      <td>1.0</td>\n",
       "      <td>1</td>\n",
       "    </tr>\n",
       "    <tr>\n",
       "      <th>18</th>\n",
       "      <td>9</td>\n",
       "      <td>4.0</td>\n",
       "      <td>32.0</td>\n",
       "      <td>1</td>\n",
       "      <td>21000.0</td>\n",
       "      <td>1200.0</td>\n",
       "      <td>1</td>\n",
       "      <td>0.1</td>\n",
       "      <td>2.0</td>\n",
       "      <td>1</td>\n",
       "    </tr>\n",
       "  </tbody>\n",
       "</table>\n",
       "</div>"
      ],
      "text/plain": [
       "    ID_NOM  Niv_Etude_Bac   age  contrat_de_travail   Salaire  \\\n",
       "0       18            3.0  45.0                   1   40000.0   \n",
       "1       16            5.0  28.0                   1   30500.0   \n",
       "2       14            0.0  55.0                   1   28000.0   \n",
       "3       15            4.0  23.0                   0   15000.0   \n",
       "4        7            0.0  33.0                   0   27000.0   \n",
       "5        2            0.0  41.0                   3   40000.0   \n",
       "6       12           -1.0  29.0                   1   50000.0   \n",
       "7        8           -3.0  24.0                   3   29000.0   \n",
       "8        5            1.4  26.0                   1   44000.0   \n",
       "9       13            3.0  37.0                   1   45800.0   \n",
       "10       0            2.0  40.0                   1   60000.0   \n",
       "11       3            0.0  38.0                   0   26000.0   \n",
       "12      17           -3.0  39.0                   3   29000.0   \n",
       "13      10            0.0  31.0                   1   43000.0   \n",
       "14      11            1.0  70.0                   0   45000.0   \n",
       "15       1            0.0  42.0                   2   70000.0   \n",
       "16       4            8.0  46.0                   1   80000.0   \n",
       "17       6            3.0  23.0                   1  100000.0   \n",
       "18       9            4.0  32.0                   1   21000.0   \n",
       "\n",
       "    dette_anterieure  etat_civile  apport  enfant_a_Charge  Solvable  \n",
       "0             4000.0            1     0.3              3.0         1  \n",
       "1             1320.0            1     0.1              0.0         1  \n",
       "2            40000.0            0     0.0              0.0         0  \n",
       "3                0.0            1     0.1              1.3         1  \n",
       "4             3000.0            0     0.1              2.0         0  \n",
       "5             1000.0            1     0.0              4.0         0  \n",
       "6             3000.0            0     0.0              0.0         0  \n",
       "7             5000.0            0     0.0              0.0         0  \n",
       "8                0.0            1     0.1              1.0         1  \n",
       "9             2000.0            1     0.2              2.0         1  \n",
       "10            1500.0            1     0.3              3.0         1  \n",
       "11            8000.0            0     0.4              0.0         0  \n",
       "12            4900.0            1     0.0              1.0         0  \n",
       "13          100000.0            1     0.2              2.0         0  \n",
       "14           17000.0            0     0.3              0.0         0  \n",
       "15           26000.0            1     0.2              0.0         0  \n",
       "16            8000.0            1     0.0              3.0         1  \n",
       "17               0.0            1     0.3              1.0         1  \n",
       "18            1200.0            1     0.1              2.0         1  "
      ]
     },
     "execution_count": 12,
     "metadata": {},
     "output_type": "execute_result"
    }
   ],
   "source": [
    "lenc= LabelEncoder()\n",
    "\n",
    "# boucle for pour récupérer les données\n",
    "for element in nouvelle_bdd_moyenne:\n",
    "    lenc = lenc.fit(credit_immo_csv[element]) \n",
    "    credit_immo_csv[element] = lenc.transform(credit_immo_csv[element])\n",
    "credit_immo_csv"
   ]
  },
  {
   "cell_type": "code",
   "execution_count": 13,
   "metadata": {},
   "outputs": [
    {
     "data": {
      "text/plain": [
       "Index(['ID_NOM', 'Niv_Etude_Bac', 'age', 'contrat_de_travail', 'Salaire',\n",
       "       'dette_anterieure', 'etat_civile', 'apport', 'enfant_a_Charge',\n",
       "       'Solvable'],\n",
       "      dtype='object')"
      ]
     },
     "execution_count": 13,
     "metadata": {},
     "output_type": "execute_result"
    }
   ],
   "source": [
    "credit_immo_csv.columns"
   ]
  },
  {
   "cell_type": "markdown",
   "metadata": {},
   "source": [
    "## e) Fractionner le jeu de données pour l’entrainement et le test (Training and Test set)."
   ]
  },
  {
   "cell_type": "code",
   "execution_count": 32,
   "metadata": {},
   "outputs": [
    {
     "name": "stdout",
     "output_type": "stream",
     "text": [
      "[[ 1.40911047 -1.73983061  0.30737437  1.73719807 -0.6674217  -0.26885956\n",
      "   0.60302269 -1.22474487 -0.17262115 -0.93541435]\n",
      " [-0.66990498  0.13034562 -0.80258864 -0.26726124  0.05628858 -0.46762417\n",
      "   0.60302269 -0.45927933 -0.17262115  1.06904497]\n",
      " [-0.15015112 -1.73983061 -0.97335218  1.73719807 -0.6674217  -0.26480314\n",
      "  -1.6583124  -1.22474487 -0.95726276 -0.93541435]\n",
      " [-1.53616141  0.38536965  0.39275614 -0.26726124  0.8282462  -0.40677786\n",
      "   0.60302269  1.07165176  1.39666206  1.06904497]\n",
      " [-1.36291013 -0.46471045  0.56351968  0.73496842  1.31071972  0.58704519\n",
      "   0.60302269  0.30618622 -0.95726276 -0.93541435]\n",
      " [ 1.23585918  1.6604898  -0.6318251  -0.26726124 -0.59505067 -0.41407941\n",
      "   0.60302269 -0.45927933 -0.95726276  1.06904497]\n",
      " [-1.01640755 -0.46471045  0.2219926  -1.2694909  -0.81216375 -0.14311052\n",
      "  -1.6583124   1.83711731 -0.95726276 -0.93541435]\n",
      " [-1.18965884 -0.46471045  0.47813791  1.73719807 -0.13670083 -0.42705996\n",
      "   0.60302269 -1.22474487  2.18130367 -0.93541435]\n",
      " [-0.49665369  0.8104097  -1.05873395 -0.26726124  2.75814027 -0.46762417\n",
      "   0.60302269  1.07165176 -0.17262115  1.06904497]\n",
      " [ 1.58236176  0.8104097   0.81966499 -0.26726124 -0.13670083 -0.30536734\n",
      "   0.60302269  1.07165176  1.39666206  1.06904497]\n",
      " [ 0.36960275 -0.0396704   2.95420924 -1.2694909   0.10453593  0.22196734\n",
      "  -1.6583124   1.07165176 -0.95726276 -0.93541435]\n",
      " [ 1.0626079   1.23544975 -1.05873395 -1.2694909  -1.34288462 -0.46762417\n",
      "   0.60302269 -0.45927933  0.06277133  1.06904497]\n",
      " [ 0.54285403 -0.8897505  -0.54644333 -0.26726124  0.34577269 -0.34593155\n",
      "  -1.6583124  -1.22474487 -0.95726276 -0.93541435]\n",
      " [ 0.19635146 -0.46471045 -0.37567979 -0.26726124  0.00804123  3.58879643\n",
      "   0.60302269  0.30618622  0.61202045 -0.93541435]\n",
      " [ 0.02310017  1.23544975 -0.29029802 -0.26726124 -1.05340051 -0.41894712\n",
      "   0.60302269 -0.45927933  0.61202045  1.06904497]]\n",
      "---------------------------------------\n"
     ]
    },
    {
     "data": {
      "text/plain": [
       "array([[-1.32424438,  1.60591014,  0.38251843,  0.57735027,  1.62322897,\n",
       "        -0.33631224,  1.        , -0.90453403,  1.14707867,  1.        ],\n",
       "       [ 1.08347268, -0.84119102,  1.44180022,  0.57735027, -0.80228558,\n",
       "         1.71359095, -1.        , -0.90453403, -1.60591014, -1.        ],\n",
       "       [-0.60192927, -0.84119102, -1.14755528, -1.73205081, -0.84893009,\n",
       "        -0.65660962, -1.        ,  0.30151134,  0.22941573, -1.        ],\n",
       "       [ 0.84270097,  0.07647191, -0.67676337,  0.57735027,  0.02798671,\n",
       "        -0.72066909,  1.        ,  1.50755672,  0.22941573,  1.        ]])"
      ]
     },
     "execution_count": 32,
     "metadata": {},
     "output_type": "execute_result"
    }
   ],
   "source": [
    "from sklearn.model_selection import train_test_split\n",
    "from sklearn.preprocessing import StandardScaler\n",
    "\n",
    "X_train, X_test = train_test_split(credit_immo_csv, test_size=0.2)\n",
    "\n",
    "# training set\n",
    "scaler=StandardScaler()\n",
    "scaled_data = scaler.fit_transform(X_train)\n",
    "print(scaled_data)\n",
    "\n",
    "print(\"---------------------------------------\")\n",
    "\n",
    "# test set\n",
    "scaler = StandardScaler()\n",
    "scaled_data = scaler.fit_transform(X_test)\n",
    "scaled_data\n",
    "\n",
    "\n"
   ]
  },
  {
   "cell_type": "markdown",
   "metadata": {},
   "source": [
    "## f) Mise à l’échelle des features (StandardScaler)."
   ]
  },
  {
   "cell_type": "code",
   "execution_count": 33,
   "metadata": {},
   "outputs": [
    {
     "data": {
      "text/html": [
       "<div>\n",
       "<style scoped>\n",
       "    .dataframe tbody tr th:only-of-type {\n",
       "        vertical-align: middle;\n",
       "    }\n",
       "\n",
       "    .dataframe tbody tr th {\n",
       "        vertical-align: top;\n",
       "    }\n",
       "\n",
       "    .dataframe thead th {\n",
       "        text-align: right;\n",
       "    }\n",
       "</style>\n",
       "<table border=\"1\" class=\"dataframe\">\n",
       "  <thead>\n",
       "    <tr style=\"text-align: right;\">\n",
       "      <th></th>\n",
       "      <th>0</th>\n",
       "      <th>1</th>\n",
       "      <th>2</th>\n",
       "      <th>3</th>\n",
       "      <th>4</th>\n",
       "      <th>5</th>\n",
       "      <th>6</th>\n",
       "      <th>7</th>\n",
       "      <th>8</th>\n",
       "      <th>9</th>\n",
       "    </tr>\n",
       "  </thead>\n",
       "  <tbody>\n",
       "    <tr>\n",
       "      <th>0</th>\n",
       "      <td>1.643168</td>\n",
       "      <td>0.585653</td>\n",
       "      <td>0.699645</td>\n",
       "      <td>-0.169300</td>\n",
       "      <td>-0.159400</td>\n",
       "      <td>-0.342231</td>\n",
       "      <td>0.679366</td>\n",
       "      <td>1.243540</td>\n",
       "      <td>1.327744</td>\n",
       "      <td>1.054093</td>\n",
       "    </tr>\n",
       "    <tr>\n",
       "      <th>1</th>\n",
       "      <td>1.278019</td>\n",
       "      <td>1.337505</td>\n",
       "      <td>-0.777383</td>\n",
       "      <td>-0.169300</td>\n",
       "      <td>-0.613929</td>\n",
       "      <td>-0.458469</td>\n",
       "      <td>0.679366</td>\n",
       "      <td>-0.331611</td>\n",
       "      <td>-1.059682</td>\n",
       "      <td>1.054093</td>\n",
       "    </tr>\n",
       "    <tr>\n",
       "      <th>2</th>\n",
       "      <td>0.912871</td>\n",
       "      <td>-0.542125</td>\n",
       "      <td>1.568485</td>\n",
       "      <td>-0.169300</td>\n",
       "      <td>-0.733541</td>\n",
       "      <td>1.219175</td>\n",
       "      <td>-1.471960</td>\n",
       "      <td>-1.119186</td>\n",
       "      <td>-1.059682</td>\n",
       "      <td>-0.948683</td>\n",
       "    </tr>\n",
       "    <tr>\n",
       "      <th>3</th>\n",
       "      <td>1.095445</td>\n",
       "      <td>0.961579</td>\n",
       "      <td>-1.211803</td>\n",
       "      <td>-1.241532</td>\n",
       "      <td>-1.355528</td>\n",
       "      <td>-0.515720</td>\n",
       "      <td>0.679366</td>\n",
       "      <td>-0.331611</td>\n",
       "      <td>-0.025131</td>\n",
       "      <td>1.054093</td>\n",
       "    </tr>\n",
       "    <tr>\n",
       "      <th>4</th>\n",
       "      <td>-0.365148</td>\n",
       "      <td>-0.542125</td>\n",
       "      <td>-0.342963</td>\n",
       "      <td>-1.241532</td>\n",
       "      <td>-0.781386</td>\n",
       "      <td>-0.385603</td>\n",
       "      <td>-1.471960</td>\n",
       "      <td>-0.331611</td>\n",
       "      <td>0.531935</td>\n",
       "      <td>-0.948683</td>\n",
       "    </tr>\n",
       "    <tr>\n",
       "      <th>5</th>\n",
       "      <td>-1.278019</td>\n",
       "      <td>-0.542125</td>\n",
       "      <td>0.352109</td>\n",
       "      <td>1.975164</td>\n",
       "      <td>-0.159400</td>\n",
       "      <td>-0.472348</td>\n",
       "      <td>0.679366</td>\n",
       "      <td>-1.119186</td>\n",
       "      <td>2.123552</td>\n",
       "      <td>-0.948683</td>\n",
       "    </tr>\n",
       "    <tr>\n",
       "      <th>6</th>\n",
       "      <td>0.547723</td>\n",
       "      <td>-0.918051</td>\n",
       "      <td>-0.690499</td>\n",
       "      <td>-0.169300</td>\n",
       "      <td>0.319051</td>\n",
       "      <td>-0.385603</td>\n",
       "      <td>-1.471960</td>\n",
       "      <td>-1.119186</td>\n",
       "      <td>-1.059682</td>\n",
       "      <td>-0.948683</td>\n",
       "    </tr>\n",
       "    <tr>\n",
       "      <th>7</th>\n",
       "      <td>-0.182574</td>\n",
       "      <td>-1.669903</td>\n",
       "      <td>-1.124919</td>\n",
       "      <td>1.975164</td>\n",
       "      <td>-0.685696</td>\n",
       "      <td>-0.298859</td>\n",
       "      <td>-1.471960</td>\n",
       "      <td>-1.119186</td>\n",
       "      <td>-1.059682</td>\n",
       "      <td>-0.948683</td>\n",
       "    </tr>\n",
       "    <tr>\n",
       "      <th>8</th>\n",
       "      <td>-0.730297</td>\n",
       "      <td>-0.015828</td>\n",
       "      <td>-0.951151</td>\n",
       "      <td>-0.169300</td>\n",
       "      <td>0.031981</td>\n",
       "      <td>-0.515720</td>\n",
       "      <td>0.679366</td>\n",
       "      <td>-0.331611</td>\n",
       "      <td>-0.263873</td>\n",
       "      <td>1.054093</td>\n",
       "    </tr>\n",
       "    <tr>\n",
       "      <th>9</th>\n",
       "      <td>0.730297</td>\n",
       "      <td>0.585653</td>\n",
       "      <td>0.004573</td>\n",
       "      <td>-0.169300</td>\n",
       "      <td>0.118102</td>\n",
       "      <td>-0.428976</td>\n",
       "      <td>0.679366</td>\n",
       "      <td>0.455965</td>\n",
       "      <td>0.531935</td>\n",
       "      <td>1.054093</td>\n",
       "    </tr>\n",
       "    <tr>\n",
       "      <th>10</th>\n",
       "      <td>-1.643168</td>\n",
       "      <td>0.209727</td>\n",
       "      <td>0.265225</td>\n",
       "      <td>-0.169300</td>\n",
       "      <td>0.797503</td>\n",
       "      <td>-0.450662</td>\n",
       "      <td>0.679366</td>\n",
       "      <td>1.243540</td>\n",
       "      <td>1.327744</td>\n",
       "      <td>1.054093</td>\n",
       "    </tr>\n",
       "    <tr>\n",
       "      <th>11</th>\n",
       "      <td>-1.095445</td>\n",
       "      <td>-0.542125</td>\n",
       "      <td>0.091457</td>\n",
       "      <td>-1.241532</td>\n",
       "      <td>-0.829232</td>\n",
       "      <td>-0.168741</td>\n",
       "      <td>-1.471960</td>\n",
       "      <td>2.031115</td>\n",
       "      <td>-1.059682</td>\n",
       "      <td>-0.948683</td>\n",
       "    </tr>\n",
       "    <tr>\n",
       "      <th>12</th>\n",
       "      <td>1.460593</td>\n",
       "      <td>-1.669903</td>\n",
       "      <td>0.178341</td>\n",
       "      <td>1.975164</td>\n",
       "      <td>-0.685696</td>\n",
       "      <td>-0.303196</td>\n",
       "      <td>0.679366</td>\n",
       "      <td>-1.119186</td>\n",
       "      <td>-0.263873</td>\n",
       "      <td>-0.948683</td>\n",
       "    </tr>\n",
       "    <tr>\n",
       "      <th>13</th>\n",
       "      <td>0.182574</td>\n",
       "      <td>-0.542125</td>\n",
       "      <td>-0.516731</td>\n",
       "      <td>-0.169300</td>\n",
       "      <td>-0.015864</td>\n",
       "      <td>3.821517</td>\n",
       "      <td>0.679366</td>\n",
       "      <td>0.455965</td>\n",
       "      <td>0.531935</td>\n",
       "      <td>-0.948683</td>\n",
       "    </tr>\n",
       "    <tr>\n",
       "      <th>14</th>\n",
       "      <td>0.365148</td>\n",
       "      <td>-0.166199</td>\n",
       "      <td>2.871744</td>\n",
       "      <td>-1.241532</td>\n",
       "      <td>0.079826</td>\n",
       "      <td>0.221610</td>\n",
       "      <td>-1.471960</td>\n",
       "      <td>1.243540</td>\n",
       "      <td>-1.059682</td>\n",
       "      <td>-0.948683</td>\n",
       "    </tr>\n",
       "    <tr>\n",
       "      <th>15</th>\n",
       "      <td>-1.460593</td>\n",
       "      <td>-0.542125</td>\n",
       "      <td>0.438993</td>\n",
       "      <td>0.902932</td>\n",
       "      <td>1.275954</td>\n",
       "      <td>0.611961</td>\n",
       "      <td>0.679366</td>\n",
       "      <td>0.455965</td>\n",
       "      <td>-1.059682</td>\n",
       "      <td>-0.948683</td>\n",
       "    </tr>\n",
       "    <tr>\n",
       "      <th>16</th>\n",
       "      <td>-0.912871</td>\n",
       "      <td>2.465283</td>\n",
       "      <td>0.786529</td>\n",
       "      <td>-0.169300</td>\n",
       "      <td>1.754405</td>\n",
       "      <td>-0.168741</td>\n",
       "      <td>0.679366</td>\n",
       "      <td>-1.119186</td>\n",
       "      <td>1.327744</td>\n",
       "      <td>1.054093</td>\n",
       "    </tr>\n",
       "    <tr>\n",
       "      <th>17</th>\n",
       "      <td>-0.547723</td>\n",
       "      <td>0.585653</td>\n",
       "      <td>-1.211803</td>\n",
       "      <td>-0.169300</td>\n",
       "      <td>2.711308</td>\n",
       "      <td>-0.515720</td>\n",
       "      <td>0.679366</td>\n",
       "      <td>1.243540</td>\n",
       "      <td>-0.263873</td>\n",
       "      <td>1.054093</td>\n",
       "    </tr>\n",
       "    <tr>\n",
       "      <th>18</th>\n",
       "      <td>0.000000</td>\n",
       "      <td>0.961579</td>\n",
       "      <td>-0.429847</td>\n",
       "      <td>-0.169300</td>\n",
       "      <td>-1.068457</td>\n",
       "      <td>-0.463674</td>\n",
       "      <td>0.679366</td>\n",
       "      <td>-0.331611</td>\n",
       "      <td>0.531935</td>\n",
       "      <td>1.054093</td>\n",
       "    </tr>\n",
       "  </tbody>\n",
       "</table>\n",
       "</div>"
      ],
      "text/plain": [
       "           0         1         2         3         4         5         6  \\\n",
       "0   1.643168  0.585653  0.699645 -0.169300 -0.159400 -0.342231  0.679366   \n",
       "1   1.278019  1.337505 -0.777383 -0.169300 -0.613929 -0.458469  0.679366   \n",
       "2   0.912871 -0.542125  1.568485 -0.169300 -0.733541  1.219175 -1.471960   \n",
       "3   1.095445  0.961579 -1.211803 -1.241532 -1.355528 -0.515720  0.679366   \n",
       "4  -0.365148 -0.542125 -0.342963 -1.241532 -0.781386 -0.385603 -1.471960   \n",
       "5  -1.278019 -0.542125  0.352109  1.975164 -0.159400 -0.472348  0.679366   \n",
       "6   0.547723 -0.918051 -0.690499 -0.169300  0.319051 -0.385603 -1.471960   \n",
       "7  -0.182574 -1.669903 -1.124919  1.975164 -0.685696 -0.298859 -1.471960   \n",
       "8  -0.730297 -0.015828 -0.951151 -0.169300  0.031981 -0.515720  0.679366   \n",
       "9   0.730297  0.585653  0.004573 -0.169300  0.118102 -0.428976  0.679366   \n",
       "10 -1.643168  0.209727  0.265225 -0.169300  0.797503 -0.450662  0.679366   \n",
       "11 -1.095445 -0.542125  0.091457 -1.241532 -0.829232 -0.168741 -1.471960   \n",
       "12  1.460593 -1.669903  0.178341  1.975164 -0.685696 -0.303196  0.679366   \n",
       "13  0.182574 -0.542125 -0.516731 -0.169300 -0.015864  3.821517  0.679366   \n",
       "14  0.365148 -0.166199  2.871744 -1.241532  0.079826  0.221610 -1.471960   \n",
       "15 -1.460593 -0.542125  0.438993  0.902932  1.275954  0.611961  0.679366   \n",
       "16 -0.912871  2.465283  0.786529 -0.169300  1.754405 -0.168741  0.679366   \n",
       "17 -0.547723  0.585653 -1.211803 -0.169300  2.711308 -0.515720  0.679366   \n",
       "18  0.000000  0.961579 -0.429847 -0.169300 -1.068457 -0.463674  0.679366   \n",
       "\n",
       "           7         8         9  \n",
       "0   1.243540  1.327744  1.054093  \n",
       "1  -0.331611 -1.059682  1.054093  \n",
       "2  -1.119186 -1.059682 -0.948683  \n",
       "3  -0.331611 -0.025131  1.054093  \n",
       "4  -0.331611  0.531935 -0.948683  \n",
       "5  -1.119186  2.123552 -0.948683  \n",
       "6  -1.119186 -1.059682 -0.948683  \n",
       "7  -1.119186 -1.059682 -0.948683  \n",
       "8  -0.331611 -0.263873  1.054093  \n",
       "9   0.455965  0.531935  1.054093  \n",
       "10  1.243540  1.327744  1.054093  \n",
       "11  2.031115 -1.059682 -0.948683  \n",
       "12 -1.119186 -0.263873 -0.948683  \n",
       "13  0.455965  0.531935 -0.948683  \n",
       "14  1.243540 -1.059682 -0.948683  \n",
       "15  0.455965 -1.059682 -0.948683  \n",
       "16 -1.119186  1.327744  1.054093  \n",
       "17  1.243540 -0.263873  1.054093  \n",
       "18 -0.331611  0.531935  1.054093  "
      ]
     },
     "execution_count": 33,
     "metadata": {},
     "output_type": "execute_result"
    }
   ],
   "source": [
    "from sklearn.preprocessing import StandardScaler\n",
    "\n",
    "\n",
    "scaler = StandardScaler()\n",
    "scaled_df = scaler.fit_transform(credit_immo_csv)\n",
    "scaled_df = pd.DataFrame(scaled_df)\n",
    "scaled_df"
   ]
  },
  {
   "cell_type": "markdown",
   "metadata": {},
   "source": [
    "# 4 - Visualisation de données"
   ]
  },
  {
   "cell_type": "markdown",
   "metadata": {},
   "source": [
    "Consignes :\n",
    "\n",
    "Chargez le fichier Montant_Temps.csv. Puis en utilisation la fonction iloc, \n",
    "découpez vos données en données d’abscisses et d’ordonnées qui représentent \n",
    "respectivement le temps et le montant du capital. Puis tracez le montant du \n",
    "capital en fonction du temps (avec la focntion plot()). \n",
    "Puis sauvegardez vos graphiques."
   ]
  },
  {
   "cell_type": "code",
   "execution_count": 57,
   "metadata": {},
   "outputs": [
    {
     "data": {
      "text/html": [
       "<div>\n",
       "<style scoped>\n",
       "    .dataframe tbody tr th:only-of-type {\n",
       "        vertical-align: middle;\n",
       "    }\n",
       "\n",
       "    .dataframe tbody tr th {\n",
       "        vertical-align: top;\n",
       "    }\n",
       "\n",
       "    .dataframe thead th {\n",
       "        text-align: right;\n",
       "    }\n",
       "</style>\n",
       "<table border=\"1\" class=\"dataframe\">\n",
       "  <thead>\n",
       "    <tr style=\"text-align: right;\">\n",
       "      <th></th>\n",
       "      <th>Montant_du_capitale</th>\n",
       "      <th>Temps</th>\n",
       "    </tr>\n",
       "  </thead>\n",
       "  <tbody>\n",
       "    <tr>\n",
       "      <th>0</th>\n",
       "      <td>1</td>\n",
       "      <td>5</td>\n",
       "    </tr>\n",
       "    <tr>\n",
       "      <th>1</th>\n",
       "      <td>12</td>\n",
       "      <td>6</td>\n",
       "    </tr>\n",
       "    <tr>\n",
       "      <th>2</th>\n",
       "      <td>13</td>\n",
       "      <td>7</td>\n",
       "    </tr>\n",
       "    <tr>\n",
       "      <th>3</th>\n",
       "      <td>2</td>\n",
       "      <td>8</td>\n",
       "    </tr>\n",
       "    <tr>\n",
       "      <th>4</th>\n",
       "      <td>3</td>\n",
       "      <td>9</td>\n",
       "    </tr>\n",
       "  </tbody>\n",
       "</table>\n",
       "</div>"
      ],
      "text/plain": [
       "   Montant_du_capitale  Temps\n",
       "0                    1      5\n",
       "1                   12      6\n",
       "2                   13      7\n",
       "3                    2      8\n",
       "4                    3      9"
      ]
     },
     "execution_count": 57,
     "metadata": {},
     "output_type": "execute_result"
    }
   ],
   "source": [
    "# Chargement du fichier\n",
    "\n",
    "montant_temps= pd.read_csv(\"Base de données/Montant_Temps.csv\")\n",
    "\n",
    "# On peut afficher quelques éléments du fichier :\n",
    "montant_temps.head()"
   ]
  },
  {
   "cell_type": "code",
   "execution_count": 73,
   "metadata": {},
   "outputs": [],
   "source": [
    "# fonction iloc\n",
    "\n",
    "# ordonnée= montant du capital\n",
    "y=ordonnee = montant_temps.iloc[:,[0]]\n",
    "\n",
    "\n",
    "# abscisse  = temps\n",
    "x=abscisse = montant_temps.iloc[:,[1]]"
   ]
  },
  {
   "cell_type": "code",
   "execution_count": 74,
   "metadata": {},
   "outputs": [
    {
     "data": {
      "image/png": "[encoded data removed]",
      "text/plain": [
       "<Figure size 432x288 with 1 Axes>"
      ]
     },
     "metadata": {},
     "output_type": "display_data"
    }
   ],
   "source": [
    "# On trace le montant du capital en fonction du temps (avec la fonction plot())\n",
    "\n",
    "# montant_temps.plot()\n",
    "\n",
    "# 1ère version :\n",
    "import numpy as np\n",
    "import matplotlib.pyplot as plt\n",
    "\n",
    "plt.plot(x, y)\n",
    "\n",
    "plt.show()"
   ]
  },
  {
   "cell_type": "code",
   "execution_count": 75,
   "metadata": {},
   "outputs": [
    {
     "data": {
      "image/png": "[encoded data removed]",
      "text/plain": [
       "<Figure size 432x288 with 1 Axes>"
      ]
     },
     "metadata": {},
     "output_type": "display_data"
    }
   ],
   "source": [
    "# on sauvegarde le graphique dans un fichier\n",
    "\n",
    "ax = montant_temps.plot()  \n",
    "fig = ax.get_figure()\n",
    "fig.savefig('./graphique')"
   ]
  },
  {
   "cell_type": "markdown",
   "metadata": {},
   "source": [
    "## a) Rajoutez du style à vos graphiques"
   ]
  },
  {
   "cell_type": "code",
   "execution_count": 72,
   "metadata": {},
   "outputs": [
    {
     "data": {
      "text/plain": [
       "[<matplotlib.lines.Line2D at 0x217f6861e50>]"
      ]
     },
     "execution_count": 72,
     "metadata": {},
     "output_type": "execute_result"
    },
    {
     "data": {
      "image/png": "[encoded data removed]",
      "text/plain": [
       "<Figure size 432x288 with 1 Axes>"
      ]
     },
     "metadata": {},
     "output_type": "display_data"
    }
   ],
   "source": [
    "from matplotlib import pyplot\n",
    "data2 =pd.read_csv(\"Base de données/Montant_Temps.csv\",sep=',')\n",
    "x=data2.Montant_du_capitale\n",
    "# x=x.iloc[]\n",
    "y=data2.Temps\n",
    "# y=y.iloc[]\n",
    "plt.style.use('ggplot')\n",
    "plt.plot(y, x, color='b', marker='.', linestyle='-',\n",
    "     linewidth=2, markersize=10)\n"
   ]
  },
  {
   "cell_type": "markdown",
   "metadata": {},
   "source": [
    "## b) Visualisation de données sous forme de nuage de points"
   ]
  },
  {
   "cell_type": "code",
   "execution_count": null,
   "metadata": {},
   "outputs": [],
   "source": [
    "montant_temps.plot.scatter(\"Temps\", \"Montant_du_capitale\")"
   ]
  },
  {
   "cell_type": "markdown",
   "metadata": {},
   "source": [
    "# 5 - Analyse de données"
   ]
  },
  {
   "cell_type": "markdown",
   "metadata": {},
   "source": [
    "## 5.1 - Mesure de tendance centrale"
   ]
  },
  {
   "cell_type": "markdown",
   "metadata": {},
   "source": [
    "Mesure de tendance centrale est le nombre qui caractérise le centre d’une distribution et la position des diverses valeurs de la distribution par rapport à ce centre. Il s’agit ici de calculer la moyenne, le médiane et le mode d’une distribution. Vous avez à disposition le fichier nommé tendance_centrale.csv. Chargez ces données puis en utilisant les outils nécessaires appliquez la mesure de tendance centrale sur ces données."
   ]
  },
  {
   "cell_type": "code",
   "execution_count": 62,
   "metadata": {},
   "outputs": [
    {
     "name": "stdout",
     "output_type": "stream",
     "text": [
      "moyenne :\n",
      " Age       45.647059\n",
      "Rating     4.438824\n",
      "dtype: float64\n",
      "\n",
      "\n",
      "médiane :\n",
      " Age       49.0\n",
      "Rating     4.3\n",
      "dtype: float64\n",
      "\n",
      "\n",
      "     Nom   Age  Rating\n",
      "0  perez  53.0    3.78\n",
      "1    NaN   NaN    3.95\n",
      "2    NaN   NaN    4.30\n",
      "3    NaN   NaN    4.80\n",
      "4    NaN   NaN    5.98\n"
     ]
    }
   ],
   "source": [
    "# chargement des données \n",
    "tendance_centrale = pd.read_csv(\"Base de données/tendance_centrale.csv\")\n",
    "\n",
    "# on peut afficher les 5 premiers éléments de la bdd\n",
    "tendance_centrale.head()\n",
    "\n",
    "# moyenne\n",
    "print(\"moyenne :\\n\", tendance_centrale.mean())\n",
    "\n",
    "print(\"\\n\")\n",
    "\n",
    "# médiane\n",
    "print(\"médiane :\\n\", tendance_centrale.median())\n",
    "\n",
    "# Calcul du mode\n",
    "print(\"mode :\\n\", tendance_centrale..mode()) \n",
    "\n",
    "print(\"\\n\")\n",
    "\n",
    "# mode de distribution\n",
    "print(tendance_centrale.mode())\n"
   ]
  },
  {
   "cell_type": "markdown",
   "metadata": {},
   "source": [
    "## 5.2 - Analyse de la variance"
   ]
  },
  {
   "cell_type": "markdown",
   "metadata": {},
   "source": [
    "En statistique, l’analyse de la variance est un modèle statistique utilisé pour comparer les moyennes d’échantillons. Ce test s’applique lorsque l’on mesure une ou plusieurs variables explicatives catégorielle (appelées alors facteurs de variabilité, leurs différentes modalités étant parfois appelées « niveaux ») qui ont de l’influence sur la loi d’une variable continue à expliquer. Faites une analyse de variance sur le jeu de données issu de tendance_centrale.csv."
   ]
  },
  {
   "cell_type": "code",
   "execution_count": 55,
   "metadata": {},
   "outputs": [
    {
     "data": {
      "text/plain": [
       "[[4.53, 3.98],\n",
       " [3.54, 4.9],\n",
       " [5.59, 3.8, 4.3, 4.3],\n",
       " [3.5, 4.8, 4.8],\n",
       " [3.78, 3.78],\n",
       " [5.98, 5.98],\n",
       " [3.95, 3.95]]"
      ]
     },
     "execution_count": 55,
     "metadata": {},
     "output_type": "execute_result"
    }
   ],
   "source": [
    "import scipy.stats as stats\n",
    "liste=[]\n",
    "a = tendance_centrale['Age'].unique()\n",
    "for i in tendance_centrale['Age'].unique():\n",
    "    a = tendance_centrale[tendance_centrale['Age'] == i]['Rating']\n",
    "    # to_liste() pour apprendre dans 1 liste\n",
    "    liste.append(a.to_list())\n",
    "liste\n"
   ]
  },
  {
   "cell_type": "markdown",
   "metadata": {},
   "source": [
    "# 5.3 - Analyse de corrélations"
   ]
  },
  {
   "cell_type": "markdown",
   "metadata": {},
   "source": [
    "\n",
    "\n",
    "\n",
    "\n",
    "L’objectif de l’analyse de corrélation est étudier la liaison entre deux variables quantitative. Soient X et Y deux grandeurs statistiques quantitatives observées. On souhaite :\n",
    "\n",
    "\n",
    "\n",
    "   Déterminer s’il existe une relation entre X et Y .\n",
    "    Caractériser la forme de la liaison(la relation) entre X et Y (positive ou négative,linéaire ou non linéaire,monotone ou non monotone)\n",
    "    Tester si la liaison est statistiquement significative\n",
    "    Quantifier l’intensité de la liaison\n",
    "\n",
    "\n",
    "\n",
    "Utlilisez le jeu de données (iris.csv)"
   ]
  },
  {
   "cell_type": "code",
   "execution_count": 50,
   "metadata": {},
   "outputs": [
    {
     "name": "stdout",
     "output_type": "stream",
     "text": [
      "Matrice de covariance :\n",
      "                 longueur_sepal  largeur_sepal  longueur_petal  largeur_petal\n",
      "longueur_sepal        0.685694      -0.042434        1.274315       0.516271\n",
      "largeur_sepal        -0.042434       0.189979       -0.329656      -0.121639\n",
      "longueur_petal        1.274315      -0.329656        3.116278       1.295609\n",
      "largeur_petal         0.516271      -0.121639        1.295609       0.581006\n",
      "Matrice de correlation :\n",
      "                 longueur_sepal  largeur_sepal  longueur_petal  largeur_petal\n",
      "longueur_sepal        1.000000      -0.117570        0.871754       0.817941\n",
      "largeur_sepal        -0.117570       1.000000       -0.428440      -0.366126\n",
      "longueur_petal        0.871754      -0.428440        1.000000       0.962865\n",
      "largeur_petal         0.817941      -0.366126        0.962865       1.000000\n"
     ]
    }
   ],
   "source": [
    "data_iris=pd.read_csv(\"Base de données/iris.csv\")\n",
    "print ('Matrice de covariance :\\n', data_iris.cov())\n",
    "print ('Matrice de correlation :\\n', data_iris.corr())"
   ]
  },
  {
   "cell_type": "markdown",
   "metadata": {},
   "source": [
    "# 5.3.2 - Analyse graphique :"
   ]
  },
  {
   "cell_type": "markdown",
   "metadata": {},
   "source": [
    "\n",
    "\n",
    "\n",
    "L’analyse graphique est une bonne manière de comprendre les différentes caractéristiques énumérées ci-dessus. Le graphique \"nuage de points\" est l’outil privilégié. Nous plaçons en abscisse la variable X, en ordonnée la variable Y, chaque observation est positionnée dans le repère ainsi constitué. L’intérêt est multiple : nous pouvons situer les proximités entre les individus;\n",
    "\n",
    "\n",
    "\n",
    "   Etudier la forme globale des points, voir notamment s’il existe une forme de liaison ou de régularité;\n",
    "    Détecter visuellement les points qui s’écartent des autres, les observations atypiques;\n",
    "    Vérifier s’il n’y a pas de regroupement suspects, laissant entendre qu’il y a en réalité une troisième variable qui influence le positionnement des individus. . .\n",
    "    A partir de la base de données qui vous est fournie, illustrez quelques types de liaisons qui peuvent exister entre 2 variables.\n",
    "\n",
    "\n",
    "\n",
    "Utlilisez le jeu de données (iris.csv)"
   ]
  },
  {
   "cell_type": "code",
   "execution_count": 52,
   "metadata": {},
   "outputs": [
    {
     "data": {
      "text/plain": [
       "<seaborn.axisgrid.PairGrid at 0x217f4f86c70>"
      ]
     },
     "execution_count": 52,
     "metadata": {},
     "output_type": "execute_result"
    },
    {
     "data": {
      "image/png": "[encoded data removed]",
      "text/plain": [
       "<Figure size 804.75x720 with 20 Axes>"
      ]
     },
     "metadata": {
      "needs_background": "light"
     },
     "output_type": "display_data"
    }
   ],
   "source": [
    "import seaborn as sns\n",
    "sns.pairplot(data_iris, hue='espece')\n",
    "\n"
   ]
  },
  {
   "cell_type": "markdown",
   "metadata": {},
   "source": [
    "On remarque une correlation entre la largeur des pétales et la longueur des pétales ainsi qu'entre la longueur des pétales et la longueur des sépales.\n",
    "on remarque une faible corrélation entre la longueur et largeur des sépales( test de pearson)\n",
    "On remarque que la  longueur des pétales des setosa est plus petites que pour les autres espèces \n"
   ]
  },
  {
   "cell_type": "markdown",
   "metadata": {},
   "source": [
    "# 5.3.3 - Analyse mathématique :"
   ]
  },
  {
   "cell_type": "markdown",
   "metadata": {},
   "source": [
    "coefficient de corrélation de Pearson Le coefficient de corrélation linéaire simple, dit de Bravais-Pearson(ou de Pearson), est une normalisation de la covariance par le produit des écarts-type des variables :\n",
    "\n",
    "r(x,y )= COV(X,Y) / (E(X) x E(Y))\n",
    "\n",
    "\n",
    "\n",
    "Avec les outils et bibliothèques de Python, calculez le coefficient de corrélation de Pearson sur la base de données fournie et interprétez les résultats.\n",
    "\n",
    "Utlilisez le jeu de données (iris.csv)\n",
    "\n",
    "\n",
    "\n",
    "Pou aller loin:\n",
    "\n",
    "\n",
    "Essayer d'integrer toutes ces fonctionnalités dans une interface graphique et qui permet de visualiser les différentes extensions des fichier pour ne plus à avoir passer par la console."
   ]
  },
  {
   "cell_type": "code",
   "execution_count": 27,
   "metadata": {},
   "outputs": [
    {
     "data": {
      "text/plain": [
       "(0.962865431402796, 4.6750039073285846e-86)"
      ]
     },
     "execution_count": 27,
     "metadata": {},
     "output_type": "execute_result"
    }
   ],
   "source": [
    "x=data_iris['longueur_petal']\n",
    "y=data_iris['largeur_petal']\n",
    "sc.stats.pearsonr(x,y)\n"
   ]
  }
 ],
 "metadata": {
  "kernelspec": {
   "display_name": "Python 3 (ipykernel)",
   "language": "python",
   "name": "python3"
  },
  "language_info": {
   "codemirror_mode": {
    "name": "ipython",
    "version": 3
   },
   "file_extension": ".py",
   "mimetype": "text/x-python",
   "name": "python",
   "nbconvert_exporter": "python",
   "pygments_lexer": "ipython3",
   "version": "3.9.7"
  }
 },
 "nbformat": 4,
 "nbformat_minor": 4
}
